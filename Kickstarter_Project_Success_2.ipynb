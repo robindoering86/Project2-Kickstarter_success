{
  "nbformat": 4,
  "nbformat_minor": 0,
  "metadata": {
    "kernelspec": {
      "display_name": "Python 3",
      "language": "python",
      "name": "python3"
    },
    "language_info": {
      "codemirror_mode": {
        "name": "ipython",
        "version": 3
      },
      "file_extension": ".py",
      "mimetype": "text/x-python",
      "name": "python",
      "nbconvert_exporter": "python",
      "pygments_lexer": "ipython3",
      "version": "3.6.6"
    },
    "toc-autonumbering": true,
    "colab": {
      "name": "Kickstarter_Project_Success_2.ipynb",
      "provenance": [],
      "collapsed_sections": [],
      "toc_visible": true,
      "include_colab_link": true
    }
  },
  "cells": [
    {
      "cell_type": "markdown",
      "metadata": {
        "id": "view-in-github",
        "colab_type": "text"
      },
      "source": [
        "<a href=\"https://colab.research.google.com/github/robindoering86/Project2-Kickstarter_success/blob/master/Kickstarter_Project_Success_2.ipynb\" target=\"_parent\"><img src=\"https://colab.research.google.com/assets/colab-badge.svg\" alt=\"Open In Colab\"/></a>"
      ]
    },
    {
      "cell_type": "markdown",
      "metadata": {
        "id": "fr80xeApxjlo",
        "colab_type": "text"
      },
      "source": [
        "3. Kickstarter Project Success - Robin & Peter, Manuel & Simon\n",
        "\n",
        "\n",
        "In recent years, the range of funding options for projects created by individuals and small companies has expanded considerably. In addition to savings, bank loans, friends & family funding and other traditional options, crowdfunding has become a popular and readily available alternative. \n",
        "\n",
        "Kickstarter, founded in 2009, is one particularly well-known and popular crowdfunding platform. It has an all-or-nothing funding model, whereby a project is only funded if it meets its goal amount; otherwise no money is given by backers to a project.\n",
        "A huge variety of factors contribute to the success or failure of a project — in general, and also on Kickstarter. Some of these are able to be quantified or categorized, which allows for the construction of a model to attempt to predict whether a project will succeed or not. The aim of this project is to construct such a model and also to analyse Kickstarter project data more generally, in order to help potential project creators assess whether or not Kickstarter is a good funding option for them, and what their chances of success are.\n"
      ]
    },
    {
      "cell_type": "markdown",
      "metadata": {
        "id": "TOauJb7jxjlq",
        "colab_type": "text"
      },
      "source": [
        "# Project 2: Kickstarter Project Success"
      ]
    },
    {
      "cell_type": "markdown",
      "metadata": {
        "id": "gnHrg3ZQxjlr",
        "colab_type": "text"
      },
      "source": [
        "## Import libraries"
      ]
    },
    {
      "cell_type": "code",
      "metadata": {
        "id": "R6kpBKdIxjlr",
        "colab_type": "code",
        "colab": {}
      },
      "source": [
        "# Pandas as NumPy\n",
        "import pandas as pd\n",
        "import numpy as np\n",
        "\n",
        "# Scikit-Learn\n",
        "from sklearn.tree import DecisionTreeClassifier\n",
        "from sklearn.model_selection import train_test_split\n",
        "from sklearn.metrics import accuracy_score, precision_score, roc_curve, confusion_matrix \n",
        "\n",
        "# Pyplot\n",
        "import matplotlib.pyplot as plt\n",
        "import seaborn as sns\n",
        "\n",
        "\n",
        "from sklearn.model_selection import train_test_split\n",
        "\n",
        "\n",
        "# Others\n",
        "from os import listdir\n",
        "import time\n"
      ],
      "execution_count": 0,
      "outputs": []
    },
    {
      "cell_type": "markdown",
      "metadata": {
        "id": "8nA6mzssxjlu",
        "colab_type": "text"
      },
      "source": [
        "## Read in the data"
      ]
    },
    {
      "cell_type": "code",
      "metadata": {
        "id": "ytMD_g1cxtzC",
        "colab_type": "code",
        "colab": {}
      },
      "source": [
        "from google.colab import drive\n",
        "drive.mount('/content/drive')"
      ],
      "execution_count": 0,
      "outputs": []
    },
    {
      "cell_type": "code",
      "metadata": {
        "id": "H5U1Bz5Sxjlu",
        "colab_type": "code",
        "colab": {}
      },
      "source": [
        "# For local execution\n",
        "#base_path = './data/'\n",
        "\n",
        "# For google colab execution\n",
        "#base_path = '/content/drive/My Drive/Colab Notebooks/data/' # peter\n",
        "base_path = '/content/drive/My Drive/Kickstarter_data/data/' # robin\n",
        "data = pd.concat([pd.read_csv(base_path+x) for x in sorted(listdir(base_path))], axis=0)\n",
        "data_cp = data.copy()"
      ],
      "execution_count": 0,
      "outputs": []
    },
    {
      "cell_type": "code",
      "metadata": {
        "id": "BgHjaee_xjlw",
        "colab_type": "code",
        "colab": {}
      },
      "source": [
        "# Create df for the second half of colu,ns\n",
        "data_sh = data.iloc[:, 17:]"
      ],
      "execution_count": 0,
      "outputs": []
    },
    {
      "cell_type": "code",
      "metadata": {
        "id": "nuT5rbEuxjly",
        "colab_type": "code",
        "colab": {}
      },
      "source": [
        "data.shape"
      ],
      "execution_count": 0,
      "outputs": []
    },
    {
      "cell_type": "code",
      "metadata": {
        "id": "5ogpaZwQxjl0",
        "colab_type": "code",
        "colab": {}
      },
      "source": [
        "data.isna().sum()"
      ],
      "execution_count": 0,
      "outputs": []
    },
    {
      "cell_type": "code",
      "metadata": {
        "id": "yflPw6rNxjl2",
        "colab_type": "code",
        "colab": {}
      },
      "source": [
        "data.columns"
      ],
      "execution_count": 0,
      "outputs": []
    },
    {
      "cell_type": "code",
      "metadata": {
        "id": "2qZFf7Eaxjl4",
        "colab_type": "code",
        "colab": {}
      },
      "source": [
        "data.describe()"
      ],
      "execution_count": 0,
      "outputs": []
    },
    {
      "cell_type": "markdown",
      "metadata": {
        "id": "Vhd4OyUxxjl6",
        "colab_type": "text"
      },
      "source": [
        "Description of columns would be helpful!"
      ]
    },
    {
      "cell_type": "code",
      "metadata": {
        "id": "BJdAUtFhxjl6",
        "colab_type": "code",
        "colab": {}
      },
      "source": [
        "data.info()"
      ],
      "execution_count": 0,
      "outputs": []
    },
    {
      "cell_type": "code",
      "metadata": {
        "id": "bVhuQCIgxjl_",
        "colab_type": "code",
        "colab": {}
      },
      "source": [
        "# significant amout of missing data in these columns, ignore for now\n",
        "# Define a list columns to drop\n",
        "droplist = []\n",
        "droplist = droplist+['friends', 'is_backing', 'is_starred', 'permissions']"
      ],
      "execution_count": 0,
      "outputs": []
    },
    {
      "cell_type": "markdown",
      "metadata": {
        "id": "_7x0SeiDxjmA",
        "colab_type": "text"
      },
      "source": [
        "### The predicted variable: 'state'"
      ]
    },
    {
      "cell_type": "code",
      "metadata": {
        "id": "pJB8sY9hxjmB",
        "colab_type": "code",
        "colab": {}
      },
      "source": [
        "data_sh['state'].describe()"
      ],
      "execution_count": 0,
      "outputs": []
    },
    {
      "cell_type": "code",
      "metadata": {
        "id": "pAWW8LC2xjmD",
        "colab_type": "code",
        "colab": {}
      },
      "source": [
        "data_sh['state'].value_counts()"
      ],
      "execution_count": 0,
      "outputs": []
    },
    {
      "cell_type": "code",
      "metadata": {
        "id": "SGUwxxfaxjmE",
        "colab_type": "code",
        "colab": {}
      },
      "source": [
        "# Calculate percentage of 'state' value that are not either 'successful' or 'failed'\n",
        "abs(len(data_sh[(data_sh['state'] == 'successful') | (data_sh['state'] == 'failed')]) - len(data_sh)) / len(data_sh)"
      ],
      "execution_count": 0,
      "outputs": []
    },
    {
      "cell_type": "markdown",
      "metadata": {
        "id": "E4m7htCQxjmG",
        "colab_type": "text"
      },
      "source": [
        "'state' has 5 different values: 'successful', 'failed', 'canceled', 'live', and 'suspended'. If we want binary target class to be binary, we would loose approx 8% of the dataset."
      ]
    },
    {
      "cell_type": "code",
      "metadata": {
        "id": "Ju22qM49xjmH",
        "colab_type": "code",
        "colab": {}
      },
      "source": [
        "data_sh[(data_sh['state'] == 'successful') | (data_sh['state'] == 'failed')].info()"
      ],
      "execution_count": 0,
      "outputs": []
    },
    {
      "cell_type": "code",
      "metadata": {
        "id": "2BJdigM8xjmI",
        "colab_type": "code",
        "colab": {}
      },
      "source": [
        "# New dataframe which contains only entries which have the state 'successful' or 'failed'\n",
        "filtered_df = data[(data['state'] == 'successful') | (data['state'] == 'failed')].copy()\n",
        "filtered_df.reset_index(inplace=True)"
      ],
      "execution_count": 0,
      "outputs": []
    },
    {
      "cell_type": "code",
      "metadata": {
        "id": "_2GPDs89xjmK",
        "colab_type": "code",
        "colab": {}
      },
      "source": [
        "filtered_df.columns"
      ],
      "execution_count": 0,
      "outputs": []
    },
    {
      "cell_type": "markdown",
      "metadata": {
        "id": "egrkVRGexjmM",
        "colab_type": "text"
      },
      "source": [
        "### The 'is_starrable' column\n",
        "is_starrable - whether or not a project can be starred (liked and saved) by users"
      ]
    },
    {
      "cell_type": "code",
      "metadata": {
        "id": "AtQr_gICxjmM",
        "colab_type": "code",
        "colab": {}
      },
      "source": [
        "col = 'is_starrable'"
      ],
      "execution_count": 0,
      "outputs": []
    },
    {
      "cell_type": "code",
      "metadata": {
        "id": "irZ_MpBXxjmO",
        "colab_type": "code",
        "colab": {}
      },
      "source": [
        "filtered_df[col].head()"
      ],
      "execution_count": 0,
      "outputs": []
    },
    {
      "cell_type": "code",
      "metadata": {
        "id": "kHSUNrJzxjmP",
        "colab_type": "code",
        "colab": {}
      },
      "source": [
        "filtered_df[col] = filtered_df[col].astype(bool)"
      ],
      "execution_count": 0,
      "outputs": []
    },
    {
      "cell_type": "code",
      "metadata": {
        "id": "5NPcK3ETxjmS",
        "colab_type": "code",
        "colab": {}
      },
      "source": [
        "filtered_df[col].describe()"
      ],
      "execution_count": 0,
      "outputs": []
    },
    {
      "cell_type": "code",
      "metadata": {
        "id": "drF57Nj0xjmU",
        "colab_type": "code",
        "colab": {}
      },
      "source": [
        "filtered_df[col].value_counts()"
      ],
      "execution_count": 0,
      "outputs": []
    },
    {
      "cell_type": "code",
      "metadata": {
        "id": "6HXuixMwxjmW",
        "colab_type": "code",
        "colab": {}
      },
      "source": [
        "# Any missing values?\n",
        "filtered_df[col].isnull().sum()"
      ],
      "execution_count": 0,
      "outputs": []
    },
    {
      "cell_type": "markdown",
      "metadata": {
        "id": "y36tYPZhxjmY",
        "colab_type": "text"
      },
      "source": [
        "### The 'launched_at' column\n",
        "\n",
        "launched_at - date and time of when the project was launched for funding"
      ]
    },
    {
      "cell_type": "code",
      "metadata": {
        "id": "9lzXxqzVxjmY",
        "colab_type": "code",
        "colab": {}
      },
      "source": [
        "col = 'launched_at'\n",
        "filtered_df[col].head()"
      ],
      "execution_count": 0,
      "outputs": []
    },
    {
      "cell_type": "code",
      "metadata": {
        "id": "H2W-iKtYxjma",
        "colab_type": "code",
        "colab": {}
      },
      "source": [
        "# Make human-readable dates out of timestamp\n",
        "filtered_df[col] = pd.to_datetime(filtered_df[col], unit='s')"
      ],
      "execution_count": 0,
      "outputs": []
    },
    {
      "cell_type": "code",
      "metadata": {
        "id": "UfqMEQ_Xxjmc",
        "colab_type": "code",
        "colab": {}
      },
      "source": [
        "#data_sh['launched_at'].iloc[0].dayofweek\n",
        "\n",
        "filtered_df['launch_weekday'] = [x.day_name() for x in filtered_df['launched_at']]\n",
        "filtered_df['launch_weekday'] = filtered_df['launch_weekday'].astype(str)\n",
        "filtered_df['launch_weekday'].dtype"
      ],
      "execution_count": 0,
      "outputs": []
    },
    {
      "cell_type": "code",
      "metadata": {
        "id": "e2T5rnklxjmd",
        "colab_type": "code",
        "colab": {}
      },
      "source": [
        "filtered_df['launch_year'] = [x.year for x in filtered_df['launched_at']]\n",
        "filtered_df['launch_year'] = filtered_df['launch_year'].astype(int)\n",
        "filtered_df['launch_year'].dtype"
      ],
      "execution_count": 0,
      "outputs": []
    },
    {
      "cell_type": "code",
      "metadata": {
        "id": "Kq4yWzZzxjmf",
        "colab_type": "code",
        "colab": {}
      },
      "source": [
        "filtered_df['launch_month'] = [x.month for x in filtered_df['launched_at']]\n",
        "filtered_df['launch_month'] = filtered_df['launch_month'].astype(int)\n",
        "filtered_df['launch_month'].dtype"
      ],
      "execution_count": 0,
      "outputs": []
    },
    {
      "cell_type": "code",
      "metadata": {
        "id": "LG2cYoiLxjmg",
        "colab_type": "code",
        "colab": {}
      },
      "source": [
        "filtered_df['launch_day'] = [x.day for x in filtered_df['launched_at']]\n",
        "filtered_df['launch_day'] = filtered_df['launch_day'].astype(int)\n",
        "filtered_df['launch_day'].dtype"
      ],
      "execution_count": 0,
      "outputs": []
    },
    {
      "cell_type": "code",
      "metadata": {
        "id": "S2ZPLkAaxjmi",
        "colab_type": "code",
        "colab": {}
      },
      "source": [
        "# Create a new column for launch hour\n",
        "filtered_df['launch_hour'] = [x.hour for x in filtered_df['launched_at']]\n",
        "filtered_df['launch_hour'] = filtered_df['launch_hour'].astype(int)\n",
        "filtered_df['launch_hour'].dtype"
      ],
      "execution_count": 0,
      "outputs": []
    },
    {
      "cell_type": "code",
      "metadata": {
        "id": "C6rw5ok3xjmk",
        "colab_type": "code",
        "colab": {}
      },
      "source": [
        "# TODO: Create bins for launch time"
      ],
      "execution_count": 0,
      "outputs": []
    },
    {
      "cell_type": "code",
      "metadata": {
        "id": "kpTEK0n6xjmm",
        "colab_type": "code",
        "colab": {}
      },
      "source": [
        "# Compare launch hour of successfull and failed projects\n",
        "plt.hist(filtered_df[filtered_df['state'] == 'successful']['hour'], bins=12, alpha=0.6)\n",
        "plt.hist(filtered_df[filtered_df['state'] == 'failed']['hour'], bins=12, alpha=0.6, color='r')"
      ],
      "execution_count": 0,
      "outputs": []
    },
    {
      "cell_type": "code",
      "metadata": {
        "id": "YS2_k4RJxjmn",
        "colab_type": "code",
        "colab": {}
      },
      "source": [
        "filtered_df['year'].unique()"
      ],
      "execution_count": 0,
      "outputs": []
    },
    {
      "cell_type": "code",
      "metadata": {
        "id": "H4N45T2qxjmp",
        "colab_type": "code",
        "colab": {}
      },
      "source": [
        "# TODO: check whether launch time has changed over years, see whether it changes over the months"
      ],
      "execution_count": 0,
      "outputs": []
    },
    {
      "cell_type": "markdown",
      "metadata": {
        "id": "XFWgcllCxjmr",
        "colab_type": "text"
      },
      "source": [
        "### The 'location' column"
      ]
    },
    {
      "cell_type": "code",
      "metadata": {
        "id": "dkv8Z-ZLxjms",
        "colab_type": "code",
        "colab": {}
      },
      "source": [
        "col = 'location'\n",
        "\n",
        "filtered_df[col].dtype"
      ],
      "execution_count": 0,
      "outputs": []
    },
    {
      "cell_type": "code",
      "metadata": {
        "id": "R4KapM6Vxjmt",
        "colab_type": "code",
        "colab": {}
      },
      "source": [
        "filtered_df[col].head(10)"
      ],
      "execution_count": 0,
      "outputs": []
    },
    {
      "cell_type": "markdown",
      "metadata": {
        "id": "lEU53n8Yxjmu",
        "colab_type": "text"
      },
      "source": [
        "Looks like str representantion of a dictionary, turn into dict first."
      ]
    },
    {
      "cell_type": "code",
      "metadata": {
        "id": "586oSlwyxjmv",
        "colab_type": "code",
        "colab": {}
      },
      "source": [
        "#start =time.time()\n",
        "del_idx = []\n",
        "count = 0\n",
        "\n",
        "for idx, x in enumerate(filtered_df[col]):\n",
        "\n",
        "    try:\n",
        "        filtered_df.at[idx, col] = eval(x.replace('false', 'False').replace('true', 'True').replace('null', 'None'))\n",
        "        #eval(x.replace('false', 'False').replace('true', 'True').replace('null', 'None'))\n",
        "\n",
        "    except:\n",
        "        filtered_df.drop(idx, axis=0, inplace=True)\n",
        "        del_idx.append(idx)\n",
        "#end = time.time()\n",
        "#print(end-start)\n",
        "filtered_df.reset_index(inplace=True)"
      ],
      "execution_count": 0,
      "outputs": []
    },
    {
      "cell_type": "code",
      "metadata": {
        "id": "H9joKezdxjmx",
        "colab_type": "code",
        "colab": {}
      },
      "source": [
        "filtered_df[col][0]"
      ],
      "execution_count": 0,
      "outputs": []
    },
    {
      "cell_type": "code",
      "metadata": {
        "id": "AIK7N44txjmy",
        "colab_type": "code",
        "colab": {}
      },
      "source": [
        "# Count number of unique locations\n",
        "\n",
        "#len(set([x['name'] for x in filtered_df[col]]))\n",
        "\n",
        "filtered_df['city'] = [x['name'] for x in filtered_df[col]]"
      ],
      "execution_count": 0,
      "outputs": []
    },
    {
      "cell_type": "code",
      "metadata": {
        "id": "JwNVJXgfxjmz",
        "colab_type": "code",
        "colab": {}
      },
      "source": [
        "# Top 20 cities by project frequency\n",
        "\n",
        "filtered_df['city'].value_counts().head(20).plot(kind='bar')"
      ],
      "execution_count": 0,
      "outputs": []
    },
    {
      "cell_type": "code",
      "metadata": {
        "id": "FUc1xKisxjm2",
        "colab_type": "code",
        "colab": {}
      },
      "source": [
        "# Top 20 non-US cities\n",
        "\n",
        "filtered_df['city'][filtered_df['location']['country'] != 'US'].value_counts().head(20).plot(kind='bar')"
      ],
      "execution_count": 0,
      "outputs": []
    },
    {
      "cell_type": "code",
      "metadata": {
        "id": "DwBiN7o7xjm4",
        "colab_type": "code",
        "colab": {}
      },
      "source": [
        "filtered_df['location'][0]['country']"
      ],
      "execution_count": 0,
      "outputs": []
    },
    {
      "cell_type": "code",
      "metadata": {
        "id": "vvE7GpVyxjm5",
        "colab_type": "code",
        "colab": {}
      },
      "source": [
        "plt.figure(figsize=(15,7))\n",
        "data['country'].value_counts().plot(kind='bar')"
      ],
      "execution_count": 0,
      "outputs": []
    },
    {
      "cell_type": "markdown",
      "metadata": {
        "id": "daEy0XmQxjm8",
        "colab_type": "text"
      },
      "source": [
        "### The 'name' column"
      ]
    },
    {
      "cell_type": "code",
      "metadata": {
        "id": "uCkQlA-Axjm9",
        "colab_type": "code",
        "colab": {}
      },
      "source": [
        "col = 'name'\n",
        "filtered_df[col].describe()"
      ],
      "execution_count": 0,
      "outputs": []
    },
    {
      "cell_type": "code",
      "metadata": {
        "id": "V_ZjSNn3xjm_",
        "colab_type": "code",
        "colab": {}
      },
      "source": [
        "filtered_df[[col]].isna().sum()"
      ],
      "execution_count": 0,
      "outputs": []
    },
    {
      "cell_type": "markdown",
      "metadata": {
        "id": "H6U8mhjhxjnA",
        "colab_type": "text"
      },
      "source": [
        "No missing values but apparently 24000 non-unique entries / names. This certainly requires further addressing."
      ]
    },
    {
      "cell_type": "code",
      "metadata": {
        "id": "OT7mYWEbxjnB",
        "colab_type": "code",
        "colab": {}
      },
      "source": [
        "# Look at the distribution of project name lengths\n",
        "plt.hist([len(x) for x in filtered_df[col]], bins=30)"
      ],
      "execution_count": 0,
      "outputs": []
    },
    {
      "cell_type": "code",
      "metadata": {
        "id": "7pIgtmK-xjnD",
        "colab_type": "code",
        "colab": {}
      },
      "source": [
        "# Look into:\n",
        "# lenght of name vs successful / failed funding\n",
        "# sentiment analysis vs. funding success"
      ],
      "execution_count": 0,
      "outputs": []
    },
    {
      "cell_type": "markdown",
      "metadata": {
        "id": "uGbtVaw8xjnF",
        "colab_type": "text"
      },
      "source": [
        "### The 'photo' column"
      ]
    },
    {
      "cell_type": "code",
      "metadata": {
        "id": "VTYWvffwxjnF",
        "colab_type": "code",
        "colab": {}
      },
      "source": [
        "col = 'photo'\n",
        "filtered_df[col].describe()"
      ],
      "execution_count": 0,
      "outputs": []
    },
    {
      "cell_type": "code",
      "metadata": {
        "id": "iwOZOs-2xjnH",
        "colab_type": "code",
        "colab": {}
      },
      "source": [
        "filtered_df[col].head()"
      ],
      "execution_count": 0,
      "outputs": []
    },
    {
      "cell_type": "markdown",
      "metadata": {
        "id": "aNnKfmVDxjnI",
        "colab_type": "text"
      },
      "source": [
        "Another column that looks like str reprensentation of a dict"
      ]
    },
    {
      "cell_type": "code",
      "metadata": {
        "id": "0zdPmbSxxjnI",
        "colab_type": "code",
        "colab": {}
      },
      "source": [
        "filtered_df[col].isna().sum()"
      ],
      "execution_count": 0,
      "outputs": []
    },
    {
      "cell_type": "code",
      "metadata": {
        "id": "02Sd4w3kxjnK",
        "colab_type": "code",
        "colab": {}
      },
      "source": [
        "eval(filtered_df[col][0])['1536x864']"
      ],
      "execution_count": 0,
      "outputs": []
    },
    {
      "cell_type": "code",
      "metadata": {
        "id": "Do3sGdRhxjnP",
        "colab_type": "code",
        "colab": {}
      },
      "source": [
        "# Turn strings into dicts and check for exceptions errors\n",
        "\n",
        "del_idx = []\n",
        "count = 0\n",
        "for idx, x in enumerate(filtered_df[col]):\n",
        "\n",
        "    try:\n",
        "        filtered_df.at[idx, col] = eval(x.replace('false', 'False').replace('true', 'True').replace('null', 'None'))\n",
        "        #eval(x.replace('null', 'None'))\n",
        "    except:\n",
        "        count += 1\n",
        "        del_idx.append(idx)\n",
        "print(count)"
      ],
      "execution_count": 0,
      "outputs": []
    },
    {
      "cell_type": "markdown",
      "metadata": {
        "id": "b2sNLj7sxjnR",
        "colab_type": "text"
      },
      "source": [
        "TODO: Analyse 'photos'"
      ]
    },
    {
      "cell_type": "markdown",
      "metadata": {
        "id": "FFBOYzV8xjnR",
        "colab_type": "text"
      },
      "source": [
        "### The 'pledged' column"
      ]
    },
    {
      "cell_type": "markdown",
      "metadata": {
        "id": "tK6s7vPOxjnS",
        "colab_type": "text"
      },
      "source": [
        "pledged data is given in native currencies. **So can be dropped in favour of 'usd_pledged' which gives pledged amount in same currency (USD)**"
      ]
    },
    {
      "cell_type": "code",
      "metadata": {
        "id": "TTrphoeAxjnT",
        "colab_type": "code",
        "colab": {}
      },
      "source": [
        "col = 'pledged'\n",
        "filtered_df[col].dtypes"
      ],
      "execution_count": 0,
      "outputs": []
    },
    {
      "cell_type": "code",
      "metadata": {
        "id": "L4Q9U7wXxjnU",
        "colab_type": "code",
        "colab": {}
      },
      "source": [
        "filtered_df[col].describe()"
      ],
      "execution_count": 0,
      "outputs": []
    },
    {
      "cell_type": "code",
      "metadata": {
        "id": "YWmr36EzxjnW",
        "colab_type": "code",
        "colab": {}
      },
      "source": [
        "filtered_df[col].isna().sum()"
      ],
      "execution_count": 0,
      "outputs": []
    },
    {
      "cell_type": "markdown",
      "metadata": {
        "id": "PO0973HqxjnX",
        "colab_type": "text"
      },
      "source": [
        "No missing values "
      ]
    },
    {
      "cell_type": "code",
      "metadata": {
        "id": "2Lm0bs9SxjnX",
        "colab_type": "code",
        "colab": {}
      },
      "source": [
        "filtered_df[col].value_counts()\n"
      ],
      "execution_count": 0,
      "outputs": []
    },
    {
      "cell_type": "markdown",
      "metadata": {
        "id": "PsrNxaj3xjnY",
        "colab_type": "text"
      },
      "source": [
        "15003 projects that pledged 0 USD?"
      ]
    },
    {
      "cell_type": "code",
      "metadata": {
        "id": "0ixqb5tpxjnY",
        "colab_type": "code",
        "colab": {}
      },
      "source": [
        "droplist.append(col)\n",
        "#filtered_df.drop('pledged', inplace=True, axis=1)"
      ],
      "execution_count": 0,
      "outputs": []
    },
    {
      "cell_type": "markdown",
      "metadata": {
        "id": "YszSj6Ohxjnb",
        "colab_type": "text"
      },
      "source": [
        "### The 'profile' column"
      ]
    },
    {
      "cell_type": "code",
      "metadata": {
        "id": "0gi8EtGsxjnc",
        "colab_type": "code",
        "colab": {}
      },
      "source": [
        "col = 'profile'\n",
        "\n",
        "filtered_df[col].head()"
      ],
      "execution_count": 0,
      "outputs": []
    },
    {
      "cell_type": "markdown",
      "metadata": {
        "id": "UbnV_75Lxjnd",
        "colab_type": "text"
      },
      "source": [
        "Yet another column with str reprensentation of a dict. Lets look into one entry:"
      ]
    },
    {
      "cell_type": "code",
      "metadata": {
        "id": "lATnErm-xjnd",
        "colab_type": "code",
        "colab": {}
      },
      "source": [
        "entry = eval(filtered_df[col][0].replace('null', 'None').replace('false', 'False').replace('true', 'True'))\n",
        "entry"
      ],
      "execution_count": 0,
      "outputs": []
    },
    {
      "cell_type": "code",
      "metadata": {
        "id": "fr7swWuaxjnf",
        "colab_type": "code",
        "colab": {}
      },
      "source": [
        "list(entry.keys())"
      ],
      "execution_count": 0,
      "outputs": []
    },
    {
      "cell_type": "code",
      "metadata": {
        "id": "WNRFeKvSxjng",
        "colab_type": "code",
        "colab": {}
      },
      "source": [
        "# Check which of the entries of the 'profile' column already exist as separate column s\n",
        "\n",
        "for e in list(data.columns):\n",
        "    if e in list(entry.keys()):\n",
        "        print(e)"
      ],
      "execution_count": 0,
      "outputs": []
    },
    {
      "cell_type": "code",
      "metadata": {
        "id": "bJKX66qexjni",
        "colab_type": "code",
        "colab": {}
      },
      "source": [
        "## TODO: Check whether contents also match"
      ],
      "execution_count": 0,
      "outputs": []
    },
    {
      "cell_type": "markdown",
      "metadata": {
        "id": "FmpmUHZKxjnj",
        "colab_type": "text"
      },
      "source": [
        "Seems like a repetition of other columns. And some additional information. Well drop the column for now."
      ]
    },
    {
      "cell_type": "code",
      "metadata": {
        "id": "7hcIE0TBxjnj",
        "colab_type": "code",
        "colab": {}
      },
      "source": [
        "droplist.append(col)"
      ],
      "execution_count": 0,
      "outputs": []
    },
    {
      "cell_type": "markdown",
      "metadata": {
        "id": "aMdOgZuNxjnl",
        "colab_type": "text"
      },
      "source": [
        "### The 'slug' column"
      ]
    },
    {
      "cell_type": "code",
      "metadata": {
        "id": "LVmxWqewxjnm",
        "colab_type": "code",
        "colab": {}
      },
      "source": [
        "col = 'slug'\n",
        "filtered_df[col].head()"
      ],
      "execution_count": 0,
      "outputs": []
    },
    {
      "cell_type": "code",
      "metadata": {
        "id": "6u7p8n3Yxjno",
        "colab_type": "code",
        "colab": {}
      },
      "source": [
        "filtered_df['name'].head()"
      ],
      "execution_count": 0,
      "outputs": []
    },
    {
      "cell_type": "markdown",
      "metadata": {
        "id": "wyLcRvdjxjnp",
        "colab_type": "text"
      },
      "source": [
        "At first glance, this looks like the 'name' column in all lower case and with hyphens instead of whitespaces."
      ]
    },
    {
      "cell_type": "code",
      "metadata": {
        "id": "2jnc0Tktxjnq",
        "colab_type": "code",
        "colab": {}
      },
      "source": [
        "filtered_df[col].describe()"
      ],
      "execution_count": 0,
      "outputs": []
    },
    {
      "cell_type": "code",
      "metadata": {
        "id": "oyRVrfVLxjnr",
        "colab_type": "code",
        "colab": {}
      },
      "source": [
        "[filtered_df['name'].str.lower().replace(' ', '-').replace(':', '') == filtered_df[col]]"
      ],
      "execution_count": 0,
      "outputs": []
    },
    {
      "cell_type": "code",
      "metadata": {
        "id": "FgLk4Bzrxjns",
        "colab_type": "code",
        "colab": {}
      },
      "source": [
        "li = []\n",
        "for i in range(10):\n",
        "    \n",
        "    li.append(filtered_df['name'][i].lower().replace(' ', '-').replace(':', '') == filtered_df['slug'][i])\n",
        "    "
      ],
      "execution_count": 0,
      "outputs": []
    },
    {
      "cell_type": "code",
      "metadata": {
        "id": "C-RMuRqhxjnu",
        "colab_type": "code",
        "colab": {}
      },
      "source": [
        "filtered_df[col].str.len().max()"
      ],
      "execution_count": 0,
      "outputs": []
    },
    {
      "cell_type": "code",
      "metadata": {
        "id": "sv1K6mXZxjnv",
        "colab_type": "code",
        "colab": {}
      },
      "source": [
        "filtered_df[col][2]"
      ],
      "execution_count": 0,
      "outputs": []
    },
    {
      "cell_type": "code",
      "metadata": {
        "id": "PgeyvI0Gxjnx",
        "colab_type": "code",
        "colab": {}
      },
      "source": [
        "filtered_df['name'][2].lower().replace(' ', '-').replace(':', '')"
      ],
      "execution_count": 0,
      "outputs": []
    },
    {
      "cell_type": "code",
      "metadata": {
        "id": "_ZUzLDdGxjny",
        "colab_type": "code",
        "colab": {}
      },
      "source": [
        "filtered_df[col].str.lower().replace(' ', '-').replace(':', '')"
      ],
      "execution_count": 0,
      "outputs": []
    },
    {
      "cell_type": "markdown",
      "metadata": {
        "id": "q2jZwTExxjnz",
        "colab_type": "raw"
      },
      "source": [
        "droplist.append(col)"
      ]
    },
    {
      "cell_type": "markdown",
      "metadata": {
        "id": "fntKfglCxjn0",
        "colab_type": "text"
      },
      "source": [
        "### The 'source_url' column"
      ]
    },
    {
      "cell_type": "code",
      "metadata": {
        "id": "J0ezd74Zxjn0",
        "colab_type": "code",
        "colab": {}
      },
      "source": [
        "col = 'source_url'\n",
        "filtered_df[col][1000]"
      ],
      "execution_count": 0,
      "outputs": []
    },
    {
      "cell_type": "markdown",
      "metadata": {
        "id": "l1iO6zd3xjn1",
        "colab_type": "text"
      },
      "source": [
        "This is just an url to the category of the project, drop."
      ]
    },
    {
      "cell_type": "code",
      "metadata": {
        "id": "6jcnNO7bxjn2",
        "colab_type": "code",
        "colab": {}
      },
      "source": [
        "droplist.append(col)"
      ],
      "execution_count": 0,
      "outputs": []
    },
    {
      "cell_type": "markdown",
      "metadata": {
        "id": "tTAD9wS_xjn3",
        "colab_type": "text"
      },
      "source": [
        "### The 'staff_pick' column"
      ]
    },
    {
      "cell_type": "markdown",
      "metadata": {
        "id": "Fcytr91Fxjn4",
        "colab_type": "text"
      },
      "source": [
        "staff_pick - whether a project was highlighted as a staff_pick when it was launched/live\n",
        "\n",
        "Seems like an interesting variable. "
      ]
    },
    {
      "cell_type": "code",
      "metadata": {
        "id": "BX_RqoI8xjn4",
        "colab_type": "code",
        "colab": {}
      },
      "source": [
        "col = 'staff_pick'\n",
        "\n",
        "filtered_df[col].head()"
      ],
      "execution_count": 0,
      "outputs": []
    },
    {
      "cell_type": "code",
      "metadata": {
        "id": "lGDuLDQDxjn5",
        "colab_type": "code",
        "colab": {}
      },
      "source": [
        "filtered_df[col].value_counts()"
      ],
      "execution_count": 0,
      "outputs": []
    },
    {
      "cell_type": "code",
      "metadata": {
        "id": "MdXlYmzbxjn8",
        "colab_type": "code",
        "colab": {}
      },
      "source": [
        "round(25940/(25940+166509)*100, 2)"
      ],
      "execution_count": 0,
      "outputs": []
    },
    {
      "cell_type": "markdown",
      "metadata": {
        "id": "ClEk-feLxjn-",
        "colab_type": "text"
      },
      "source": [
        "13.48 % of projects where highlighted as staff_pick, when they were launched/live."
      ]
    },
    {
      "cell_type": "markdown",
      "metadata": {
        "id": "d3Wr7OGKxjn-",
        "colab_type": "text"
      },
      "source": [
        "### The 'state_changed_at' column\n",
        "state_changed_at - date and time of when a project's status was changed (same as the deadline for successful and failed projects)"
      ]
    },
    {
      "cell_type": "code",
      "metadata": {
        "id": "jP50kj57xjn_",
        "colab_type": "code",
        "colab": {}
      },
      "source": [
        "col = 'state_changed_at'\n",
        "\n",
        "filtered_df[col].head()"
      ],
      "execution_count": 0,
      "outputs": []
    },
    {
      "cell_type": "code",
      "metadata": {
        "id": "IdQ55hQ9xjoA",
        "colab_type": "code",
        "colab": {}
      },
      "source": [
        "# Conver to datetime object\n",
        "filtered_df[col] = pd.to_datetime(filtered_df[col], unit='s')"
      ],
      "execution_count": 0,
      "outputs": []
    },
    {
      "cell_type": "markdown",
      "metadata": {
        "id": "rwWHuSOIxjoA",
        "colab_type": "text"
      },
      "source": [
        "### The 'static_usd_rate' column\n",
        "\n",
        "static_usd_rate - conversion rate between the original currency and USD"
      ]
    },
    {
      "cell_type": "code",
      "metadata": {
        "id": "Nfo3AR8OxjoB",
        "colab_type": "code",
        "colab": {}
      },
      "source": [
        "col = 'static_usd_rate'\n",
        "\n",
        "filtered_df[col].head()"
      ],
      "execution_count": 0,
      "outputs": []
    },
    {
      "cell_type": "markdown",
      "metadata": {
        "id": "vo8nYSohxjoD",
        "colab_type": "text"
      },
      "source": [
        "Assume column is just a mulitplier to convert 'pledge' to 'usd_plegded', drop."
      ]
    },
    {
      "cell_type": "code",
      "metadata": {
        "id": "w-hTkeMTxjoD",
        "colab_type": "code",
        "colab": {}
      },
      "source": [
        "droplist.append(col)"
      ],
      "execution_count": 0,
      "outputs": []
    },
    {
      "cell_type": "markdown",
      "metadata": {
        "id": "G8avRU07xjoE",
        "colab_type": "text"
      },
      "source": [
        "### The 'urls' columns\n",
        "urls - url to the project's page"
      ]
    },
    {
      "cell_type": "code",
      "metadata": {
        "id": "Idxbxid2xjoF",
        "colab_type": "code",
        "colab": {}
      },
      "source": [
        "col = 'urls'\n",
        "\n",
        "filtered_df[col].head()"
      ],
      "execution_count": 0,
      "outputs": []
    },
    {
      "cell_type": "code",
      "metadata": {
        "id": "PAWv3cNnxjoG",
        "colab_type": "code",
        "colab": {}
      },
      "source": [
        "eval(filtered_df[col][0])"
      ],
      "execution_count": 0,
      "outputs": []
    },
    {
      "cell_type": "markdown",
      "metadata": {
        "id": "1EHmKoUKxjoI",
        "colab_type": "text"
      },
      "source": [
        "Just links to the project page, drop."
      ]
    },
    {
      "cell_type": "code",
      "metadata": {
        "id": "FF-cxKTSxjoJ",
        "colab_type": "code",
        "colab": {}
      },
      "source": [
        "droplist.append(col)"
      ],
      "execution_count": 0,
      "outputs": []
    },
    {
      "cell_type": "markdown",
      "metadata": {
        "id": "Bedwyn5YxjoL",
        "colab_type": "text"
      },
      "source": [
        "### The 'usd_pledged' column\n",
        "usd_pledged - amount pledged in USD"
      ]
    },
    {
      "cell_type": "code",
      "metadata": {
        "id": "ROuVZbK6xjoM",
        "colab_type": "code",
        "colab": {}
      },
      "source": [
        "col = 'usd_pledged'\n",
        "\n",
        "filtered_df[col].head()"
      ],
      "execution_count": 0,
      "outputs": []
    },
    {
      "cell_type": "code",
      "metadata": {
        "id": "xpCIVNf2xjoN",
        "colab_type": "code",
        "colab": {}
      },
      "source": [
        "filtered_df[col].describe()"
      ],
      "execution_count": 0,
      "outputs": []
    },
    {
      "cell_type": "code",
      "metadata": {
        "id": "NecANAK7xjoO",
        "colab_type": "code",
        "colab": {}
      },
      "source": [
        "filtered_df[col].isna().sum()"
      ],
      "execution_count": 0,
      "outputs": []
    },
    {
      "cell_type": "code",
      "metadata": {
        "id": "Myq3Q9rHxjoP",
        "colab_type": "code",
        "colab": {}
      },
      "source": [
        "filtered_df[col].value_counts()"
      ],
      "execution_count": 0,
      "outputs": []
    },
    {
      "cell_type": "code",
      "metadata": {
        "id": "MwR_SIHv2M1Z",
        "colab_type": "code",
        "colab": {}
      },
      "source": [
        "filtered_df[filtered_df[col] == np.float(0)]['state'].value_counts()"
      ],
      "execution_count": 0,
      "outputs": []
    },
    {
      "cell_type": "markdown",
      "metadata": {
        "id": "Mq-FbpSmxjoQ",
        "colab_type": "text"
      },
      "source": [
        "### The 'usd_type' column\n",
        "usd_type - domestic or international"
      ]
    },
    {
      "cell_type": "code",
      "metadata": {
        "id": "ZkxGwpzp2Ly0",
        "colab_type": "code",
        "colab": {}
      },
      "source": [
        ""
      ],
      "execution_count": 0,
      "outputs": []
    },
    {
      "cell_type": "code",
      "metadata": {
        "id": "u452tztXxjoQ",
        "colab_type": "code",
        "colab": {}
      },
      "source": [
        "col = 'usd_type'\n",
        "\n",
        "filtered_df[col].head()"
      ],
      "execution_count": 0,
      "outputs": []
    },
    {
      "cell_type": "code",
      "metadata": {
        "id": "Tx7MZcmlxjoR",
        "colab_type": "code",
        "colab": {}
      },
      "source": [
        "filtered_df[col].unique()"
      ],
      "execution_count": 0,
      "outputs": []
    },
    {
      "cell_type": "code",
      "metadata": {
        "id": "UOXYvsBQxjoS",
        "colab_type": "code",
        "colab": {}
      },
      "source": [
        "filtered_df[col].isna().sum()"
      ],
      "execution_count": 0,
      "outputs": []
    },
    {
      "cell_type": "markdown",
      "metadata": {
        "id": "GPBAe9WdxjoT",
        "colab_type": "text"
      },
      "source": [
        "38 missing values, but can be ignored as columns will be dropped anyways."
      ]
    },
    {
      "cell_type": "code",
      "metadata": {
        "id": "Psg-WnG5xjoV",
        "colab_type": "code",
        "colab": {}
      },
      "source": [
        "droplist.append(col)"
      ],
      "execution_count": 0,
      "outputs": []
    },
    {
      "cell_type": "code",
      "metadata": {
        "id": "TfL_OoDzxjoV",
        "colab_type": "code",
        "colab": {}
      },
      "source": [
        "droplist"
      ],
      "execution_count": 0,
      "outputs": []
    },
    {
      "cell_type": "code",
      "metadata": {
        "id": "z16LvNpjxjoW",
        "colab_type": "code",
        "colab": {}
      },
      "source": [
        "filtered_df.shape"
      ],
      "execution_count": 0,
      "outputs": []
    },
    {
      "cell_type": "code",
      "metadata": {
        "id": "plKZsLdAxjoX",
        "colab_type": "code",
        "colab": {}
      },
      "source": [
        "filtered_df.drop(droplist, axis=1, inplace=True)"
      ],
      "execution_count": 0,
      "outputs": []
    },
    {
      "cell_type": "code",
      "metadata": {
        "id": "sLB80oQVxjoZ",
        "colab_type": "code",
        "colab": {}
      },
      "source": [
        "filtered_df.shape"
      ],
      "execution_count": 0,
      "outputs": []
    },
    {
      "cell_type": "code",
      "metadata": {
        "id": "e_OMoRi7xjoa",
        "colab_type": "code",
        "colab": {}
      },
      "source": [
        "filtered_df.columns"
      ],
      "execution_count": 0,
      "outputs": []
    },
    {
      "cell_type": "code",
      "metadata": {
        "id": "hdcOKRm-xjob",
        "colab_type": "code",
        "colab": {}
      },
      "source": [
        ""
      ],
      "execution_count": 0,
      "outputs": []
    },
    {
      "cell_type": "markdown",
      "metadata": {
        "id": "JSgEO_jhHz72",
        "colab_type": "text"
      },
      "source": [
        "###The rest of the columns"
      ]
    },
    {
      "cell_type": "code",
      "metadata": {
        "id": "YOckxeuhH3Kv",
        "colab_type": "code",
        "colab": {}
      },
      "source": [
        "# split creator column entry in sub_columns\n",
        "df_tot = filtered_df\n",
        "import json \n",
        "#df_creator = pd.DataFrame(json.loads(df_tot.creator.values))\n",
        "creator_dlist = list()\n",
        "idx_drop = list()\n",
        "backup = None\n",
        "#print(json.loads(df_tot.creator.values[0]))\n",
        "count = 0\n",
        "for idx, x in enumerate(df_tot.creator.values):\n",
        "  try:\n",
        "    creator_dlist.append(json.loads(x))\n",
        "    #df_tot.creator.values[idx] = json.loads(x)\n",
        "  except:\n",
        "    # catches the other cases with the exception of 7 cases\n",
        "    a = x.index(\"\\\"name\\\":\")\n",
        "    b = x.index(\"\\\"\", a + 8)\n",
        "    x = x[:b] + \"'\" + x[b + 1:]\n",
        "    c = x.index(\"\\\"\", b)\n",
        "    x = x[:c] + \"'\" + x[c + 1:]\n",
        "    try:\n",
        "      creator_dlist.append(json.loads(x))\n",
        "    except:\n",
        "      print(a,b,c)\n",
        "      count += 1\n",
        "      idx_drop.append(idx)\n",
        "print(count)\n",
        "df_creator = pd.DataFrame(creator_dlist)\n",
        "df_creator.columns = ['crea_' + x for x in df_creator.columns]\n",
        "df_creator.info()\n",
        "df_tot2 = df_tot.drop(idx_drop, axis = 0).reset_index()\n"
      ],
      "execution_count": 0,
      "outputs": []
    },
    {
      "cell_type": "code",
      "metadata": {
        "id": "H4Foam01Jwn1",
        "colab_type": "code",
        "colab": {}
      },
      "source": [
        "# drop two columns with only null entry\n",
        "df_creator.drop(['crea_is_registered', 'crea_chosen_currency'], axis = 1, inplace = True)\n",
        "df_creator.head()"
      ],
      "execution_count": 0,
      "outputs": []
    },
    {
      "cell_type": "code",
      "metadata": {
        "id": "ox5gJyC7KUnz",
        "colab_type": "code",
        "colab": {}
      },
      "source": [
        "category_dlist = list()\n",
        "count = 0\n",
        "for idx, x in enumerate(df_tot2.category.values):\n",
        "  try:\n",
        "    category_dlist.append(json.loads(x))\n",
        "  except:\n",
        "    count += 1\n",
        "\n",
        "print(count)\n",
        "\n",
        "df_category = pd.DataFrame(category_dlist)\n",
        "df_category.columns = ['cat_' + x for x in df_category.columns]\n",
        "df_category.info()"
      ],
      "execution_count": 0,
      "outputs": []
    },
    {
      "cell_type": "code",
      "metadata": {
        "id": "U9iPJqVqKm9E",
        "colab_type": "code",
        "colab": {}
      },
      "source": [
        "df_category.cat_name = df_category.cat_name.str.lower()\n",
        "df_category.cat_name = df_category.cat_name.str.replace(\" \", \"_\")\n",
        "df_category.columns = ['cat_super' if x=='cat_slug' else x for x in df_category.columns]\n",
        "df_category.cat_super = [str(x).split(sep = '/')[0] for x in df_category.cat_super.values]\n",
        "df_category.cat_super = df_category.cat_super.replace(\" \", \"_\")\n",
        "df_category.tail()"
      ],
      "execution_count": 0,
      "outputs": []
    },
    {
      "cell_type": "code",
      "metadata": {
        "id": "jCxMR4uPKqew",
        "colab_type": "code",
        "colab": {}
      },
      "source": [
        "df_tot3 = pd.concat([df_tot2, df_creator, df_category],axis = 1)\n",
        "df_tot3.drop(['creator', 'category'], inplace = True, axis = 1)\n",
        "df_tot3.info()"
      ],
      "execution_count": 0,
      "outputs": []
    },
    {
      "cell_type": "code",
      "metadata": {
        "id": "3rLFZ-5UKuQG",
        "colab_type": "code",
        "colab": {}
      },
      "source": [
        "df_tot3.created_at = pd.to_datetime(df_tot3.created_at, unit='s')\n",
        "df_tot3.deadline = pd.to_datetime(df_tot3.deadline, unit='s')"
      ],
      "execution_count": 0,
      "outputs": []
    },
    {
      "cell_type": "code",
      "metadata": {
        "id": "VmTRyBgcKxOv",
        "colab_type": "code",
        "colab": {}
      },
      "source": [
        "df_tot3.id = df_tot3.id.astype('category')"
      ],
      "execution_count": 0,
      "outputs": []
    },
    {
      "cell_type": "code",
      "metadata": {
        "id": "1ryEzWUGK2qy",
        "colab_type": "code",
        "colab": {}
      },
      "source": [
        "df_tot3.blurb = df_tot3.blurb.fillna('')\n",
        "df_tot3.blurb = df_tot3.blurb.astype(str)\n",
        "blurb_wc = [len(str(x).lower().split()) for x in df_tot3.blurb]\n",
        "blurb_un_words = [set(str(x).lower().split()) for x in df_tot3.blurb]\n",
        "blurb_un_words = set.union(*blurb_un_words)\n",
        "print(len(blurb_un_words))\n",
        "print(set(blurb_wc))\n",
        "df_tot3['blurb_wordcount'] = blurb_wc\n",
        "#df_tot3[df_tot3.blurb.isna()]\n",
        "# keyword analysis in blurb as bonus"
      ],
      "execution_count": 0,
      "outputs": []
    },
    {
      "cell_type": "code",
      "metadata": {
        "id": "bX0FkV7QK-LS",
        "colab_type": "code",
        "colab": {}
      },
      "source": [
        "df_tot3.country = df_tot3.country.astype('category')\n",
        "df_tot3.currency = df_tot3.currency.astype('category')\n",
        "df_tot3.currency_symbol = df_tot3.currency_symbol.astype('category')\n",
        "df_tot3.current_currency = df_tot3.current_currency.astype('category')"
      ],
      "execution_count": 0,
      "outputs": []
    },
    {
      "cell_type": "code",
      "metadata": {
        "id": "54E72TyZLAT9",
        "colab_type": "code",
        "colab": {}
      },
      "source": [
        "# deletes columns that contain only little information\n",
        "df_tot4 = df_tot3.drop(['friends', 'is_backing', 'is_starred', 'permissions'], axis = 1)"
      ],
      "execution_count": 0,
      "outputs": []
    },
    {
      "cell_type": "code",
      "metadata": {
        "id": "Rt0wIWUYLf1y",
        "colab_type": "code",
        "colab": {}
      },
      "source": [
        "df_tot4.crea_slug = df_tot4.crea_slug.fillna('')\n",
        "df_tot4.cat_parent_id = df_tot4.cat_parent_id.fillna(0)"
      ],
      "execution_count": 0,
      "outputs": []
    },
    {
      "cell_type": "code",
      "metadata": {
        "id": "kDthxSwzL3qF",
        "colab_type": "code",
        "colab": {}
      },
      "source": [
        "# list of project list according to unique ids\n",
        "id_groupby = df_tot4.groupby('id')\n",
        "\n",
        "id_groupby2 = id_groupby.size().reset_index(name='counts')\n",
        "indexid = id_groupby2[id_groupby2.counts > 1].index\n",
        "iddouble_list = id_groupby2[id_groupby2.counts > 1].id.unique()\n"
      ],
      "execution_count": 0,
      "outputs": []
    },
    {
      "cell_type": "code",
      "metadata": {
        "id": "ekxbaSj-MBPz",
        "colab_type": "code",
        "colab": {}
      },
      "source": [
        "double_entries_sublist = [df_tot4[df_tot4.id == x].index[1:] for x in iddouble_list]\n",
        "double_entries_sublist_flat = list()\n",
        "for y in double_entries_sublist:\n",
        "  for x in y:\n",
        "    double_entries_sublist_flat.append(x)\n",
        "#double_entries_sublist_flat"
      ],
      "execution_count": 0,
      "outputs": []
    },
    {
      "cell_type": "code",
      "metadata": {
        "id": "mJIf91tMMCDK",
        "colab_type": "code",
        "colab": {}
      },
      "source": [
        "df_tot5 = df_tot4.drop(double_entries_sublist_flat, axis = 0)"
      ],
      "execution_count": 0,
      "outputs": []
    },
    {
      "cell_type": "code",
      "metadata": {
        "id": "gK_xBThPMLGM",
        "colab_type": "code",
        "colab": {}
      },
      "source": [
        "# list of project list of unique creator\n",
        "unique_crea_set = set(df_tot5.crea_id.unique())\n",
        "#crea_id_entry\n",
        "\n",
        "creaid_groupby = df_tot5.groupby('crea_id')\n",
        "\n",
        "\n",
        "creaid_groupby2 = creaid_groupby.size().reset_index(name='counts')\n",
        "indexcreaid = creaid_groupby2[creaid_groupby2.counts > 1].index\n",
        "creaiddouble_list = creaid_groupby2[creaid_groupby2.counts > 1].crea_id.unique()\n",
        "# number of creators with x projects\n",
        "multi_proj = list()\n",
        "x_list = list()\n",
        "for x in range(1,75):\n",
        "  a = len(creaid_groupby2[creaid_groupby2.counts == x].crea_id.unique())\n",
        "  multi_proj.append(a)\n",
        "  x_list.append(x)\n",
        "  #print(x, np.log10(a))"
      ],
      "execution_count": 0,
      "outputs": []
    },
    {
      "cell_type": "code",
      "metadata": {
        "id": "a7RpOJZwMY8w",
        "colab_type": "code",
        "colab": {}
      },
      "source": [
        "df_tot5.cat_super.hist(bins = len(df_tot5.cat_super.unique()), figsize = (17,17), grid = False)"
      ],
      "execution_count": 0,
      "outputs": []
    },
    {
      "cell_type": "code",
      "metadata": {
        "id": "BmAW-XoxMZZ9",
        "colab_type": "code",
        "colab": {}
      },
      "source": [
        "df_tot5[df_tot5.state == 'successful'].cat_super.hist(bins = len(df_tot5.cat_super.unique()), figsize = (17,17), grid = False)"
      ],
      "execution_count": 0,
      "outputs": []
    },
    {
      "cell_type": "code",
      "metadata": {
        "id": "u7JE1_u4Mc0Q",
        "colab_type": "code",
        "colab": {}
      },
      "source": [
        "df_tot5[df_tot5.state == 'failed'].cat_super.hist(bins = len(df_tot5.cat_super.unique()), figsize = (17,17), grid = False)"
      ],
      "execution_count": 0,
      "outputs": []
    },
    {
      "cell_type": "code",
      "metadata": {
        "id": "SIFybCfyMsKB",
        "colab_type": "code",
        "colab": {}
      },
      "source": [
        "init_month = [x.astype('datetime64[M]').astype(int) % 12 + 1 for x in df_tot5.created_at.values]\n",
        "end_month = [x.astype('datetime64[M]').astype(int) % 12 + 1 for x in df_tot5.deadline.values]\n",
        "init_year = [x.astype('datetime64[Y]').astype(int) + 1970 for x in df_tot5.created_at.values]\n",
        "end_year = [x.astype('datetime64[Y]').astype(int) + 1970 for x in df_tot5.deadline.values]\n",
        "init_month_succ = [x.astype('datetime64[M]').astype(int) % 12 + 1 for x in df_tot5[df_tot5.state == 'successful'].created_at.values]\n",
        "end_month_succ = [x.astype('datetime64[M]').astype(int) % 12 + 1 for x in df_tot5[df_tot5.state == 'successful'].deadline.values]\n",
        "init_year_succ = [x.astype('datetime64[Y]').astype(int) + 1970 for x in df_tot5[df_tot5.state == 'successful'].created_at.values]\n",
        "end_year_succ = [x.astype('datetime64[Y]').astype(int) + 1970 for x in df_tot5[df_tot5.state == 'successful'].deadline.values]\n",
        "print(df_tot5.created_at.values[1], df_tot5.created_at.values[1].astype('datetime64[M]').astype(int) % 12 + 1)\n",
        "init_year[1]"
      ],
      "execution_count": 0,
      "outputs": []
    },
    {
      "cell_type": "code",
      "metadata": {
        "id": "5ZSK6nfRNM4X",
        "colab_type": "code",
        "colab": {}
      },
      "source": [
        "plt.hist(init_month)"
      ],
      "execution_count": 0,
      "outputs": []
    },
    {
      "cell_type": "code",
      "metadata": {
        "id": "lFTNqSVdNaFV",
        "colab_type": "code",
        "colab": {}
      },
      "source": [
        "plt.hist(init_month_succ)"
      ],
      "execution_count": 0,
      "outputs": []
    },
    {
      "cell_type": "code",
      "metadata": {
        "id": "9slcSuDONcqQ",
        "colab_type": "code",
        "colab": {}
      },
      "source": [
        "plt.hist(end_month)"
      ],
      "execution_count": 0,
      "outputs": []
    },
    {
      "cell_type": "code",
      "metadata": {
        "id": "qb5u1t1iNfh7",
        "colab_type": "code",
        "colab": {}
      },
      "source": [
        "plt.hist(end_month_succ)"
      ],
      "execution_count": 0,
      "outputs": []
    },
    {
      "cell_type": "code",
      "metadata": {
        "id": "9gQRR9D_Nlqy",
        "colab_type": "code",
        "colab": {}
      },
      "source": [
        "plt.hist(init_year)"
      ],
      "execution_count": 0,
      "outputs": []
    },
    {
      "cell_type": "code",
      "metadata": {
        "id": "VmNs-ndLNoEs",
        "colab_type": "code",
        "colab": {}
      },
      "source": [
        "plt.hist(init_year_succ)"
      ],
      "execution_count": 0,
      "outputs": []
    },
    {
      "cell_type": "code",
      "metadata": {
        "id": "VJaFheKwNq1a",
        "colab_type": "code",
        "colab": {}
      },
      "source": [
        "plt.hist(end_year)"
      ],
      "execution_count": 0,
      "outputs": []
    },
    {
      "cell_type": "code",
      "metadata": {
        "id": "Qum6_TA5NtQm",
        "colab_type": "code",
        "colab": {}
      },
      "source": [
        "plt.hist(end_year_succ)"
      ],
      "execution_count": 0,
      "outputs": []
    },
    {
      "cell_type": "code",
      "metadata": {
        "id": "I7GxH_1MN1YN",
        "colab_type": "code",
        "colab": {}
      },
      "source": [
        "stategroupby = df_tot5.groupby('state').count().blurb\n",
        "statedict = dict(stategroupby)\n",
        "plt.bar(statedict.keys(), statedict.values());"
      ],
      "execution_count": 0,
      "outputs": []
    },
    {
      "cell_type": "code",
      "metadata": {
        "id": "vgeCVZYTN7Q3",
        "colab_type": "code",
        "colab": {}
      },
      "source": [
        "!pip install gender-guesser\n",
        "import gender_guesser.detector as gender"
      ],
      "execution_count": 0,
      "outputs": []
    },
    {
      "cell_type": "code",
      "metadata": {
        "id": "H7GsVK5dODnh",
        "colab_type": "code",
        "colab": {}
      },
      "source": [
        "d = gender.Detector()\n",
        "gender_list = list()\n",
        "for x in df_tot5.crea_name.values:\n",
        "  gender_list.append(d.get_gender(x.split()[0]))\n",
        "gender_list\n",
        "male_count = 0\n",
        "mmale_count = 0\n",
        "female_count = 0\n",
        "mfemale_count = 0\n",
        "unknown_count = 0\n",
        "unclear_count = 0\n",
        "\n",
        "for x in gender_list:\n",
        "  if x == 'male':\n",
        "    male_count += 1\n",
        "  elif x == 'mostly_male':\n",
        "    mmale_count += 1\n",
        "  elif x == 'female':\n",
        "    female_count += 1\n",
        "  elif x == 'mostly_female':\n",
        "    mfemale_count += 1\n",
        "  elif x == 'unknown':\n",
        "    unknown_count += 1\n",
        "  else:\n",
        "    unclear_count += 1\n",
        "print(male_count, mmale_count, female_count, mfemale_count, unknown_count, unclear_count)\n",
        "for idx, x in enumerate(gender_list):\n",
        "  if x == 'mostly_male':\n",
        "    gender_list[idx] = 'male'\n",
        "  elif x == 'mostly_female':\n",
        "    gender_list[idx] = 'female'\n",
        "  elif x == 'andy':\n",
        "    gender_list[idx] = 'unknown'"
      ],
      "execution_count": 0,
      "outputs": []
    },
    {
      "cell_type": "code",
      "metadata": {
        "id": "R93wQCuYOMVJ",
        "colab_type": "code",
        "colab": {}
      },
      "source": [
        "df_tot5.describe()"
      ],
      "execution_count": 0,
      "outputs": []
    },
    {
      "cell_type": "code",
      "metadata": {
        "id": "iGgnlMkYOQgz",
        "colab_type": "code",
        "colab": {}
      },
      "source": [
        "df_tot5['gender'] = gender_list"
      ],
      "execution_count": 0,
      "outputs": []
    },
    {
      "cell_type": "code",
      "metadata": {
        "id": "Pa_Gxj-LatIC",
        "colab_type": "code",
        "colab": {}
      },
      "source": [
        "suclist = list()\n",
        "for x in df_tot5.state.values:\n",
        "    if x == 'successful':\n",
        "        suclist.append(1)\n",
        "    else:\n",
        "        suclist.append(0)\n",
        "df_tot5['success'] = suclist"
      ],
      "execution_count": 0,
      "outputs": []
    },
    {
      "cell_type": "code",
      "metadata": {
        "id": "kEshpmJua0I3",
        "colab_type": "code",
        "colab": {}
      },
      "source": [
        "corrm = df_tot5.corr()"
      ],
      "execution_count": 0,
      "outputs": []
    },
    {
      "cell_type": "code",
      "metadata": {
        "id": "F2UHiX3ya3A4",
        "colab_type": "code",
        "colab": {}
      },
      "source": [
        "plt.figure(figsize = (15,15))\n",
        "sns.heatmap(corrm)"
      ],
      "execution_count": 0,
      "outputs": []
    },
    {
      "cell_type": "code",
      "metadata": {
        "id": "VS6JTmVabTAO",
        "colab_type": "code",
        "colab": {}
      },
      "source": [
        ""
      ],
      "execution_count": 0,
      "outputs": []
    },
    {
      "cell_type": "code",
      "metadata": {
        "id": "lXc7rfQha7SW",
        "colab_type": "code",
        "colab": {}
      },
      "source": [
        "df_tot5.gender = df_tot5.gender.astype('category')\n",
        "df_tot5.cat_super = df_tot5.cat_super.astype('category')\n",
        "df_tot5.cat_parent_id = df_tot5.cat_parent_id.astype('category')\n",
        "df_tot5.city = df_tot5.city.astype('category')\n",
        "df_tot5.gender = df_tot5.gender.astype('category')"
      ],
      "execution_count": 0,
      "outputs": []
    },
    {
      "cell_type": "code",
      "metadata": {
        "id": "D44sneklbAUs",
        "colab_type": "code",
        "colab": {}
      },
      "source": [
        "df_tot6 = df_tot5.drop(['level_0', 'index', 'blurb', 'converted_pledged_amount',\\\n",
        "                        'currency', 'currency_symbol', 'currency_trailing_code',\\\n",
        "                        'id', 'name', 'slug', 'photo', 'state', 'state_changed_at',\\\n",
        "                        'crea_name', 'crea_avatar', 'crea_urls', 'crea_slug',\\\n",
        "                        'cat_color', 'cat_urls', 'cat_parent_id', 'cat_id'], axis = 1)"
      ],
      "execution_count": 0,
      "outputs": []
    },
    {
      "cell_type": "code",
      "metadata": {
        "id": "1e_ElmQOgWft",
        "colab_type": "code",
        "colab": {}
      },
      "source": [
        "\n"
      ],
      "execution_count": 0,
      "outputs": []
    }
  ]
}